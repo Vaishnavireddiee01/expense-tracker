{
 "cells": [
  {
   "cell_type": "code",
   "execution_count": null,
   "id": "9e798143",
   "metadata": {},
   "outputs": [
    {
     "name": "stdout",
     "output_type": "stream",
     "text": [
      "Expense Tracker Menu:\n",
      "1. Add Expense\n",
      "2. Analyze Expenses\n",
      "3. Quit\n",
      "Enter your choice (1-3): 1\n",
      "Enter the category: food\n",
      "Enter the amount: 20000\n",
      "Expense added successfully!\n",
      "Expense Tracker Menu:\n",
      "1. Add Expense\n",
      "2. Analyze Expenses\n",
      "3. Quit\n"
     ]
    }
   ],
   "source": [
    "import matplotlib.pyplot as plt\n",
    "\n",
    "expenses = {}\n",
    "\n",
    "def add_expense(category, amount):\n",
    "    if category in expenses:\n",
    "        expenses[category] += amount\n",
    "    else:\n",
    "        expenses[category] = amount\n",
    "\n",
    "def analyze_expenses():\n",
    "    categories = list(expenses.keys())\n",
    "    amounts = list(expenses.values())\n",
    "\n",
    "    plt.bar(categories, amounts)\n",
    "    plt.xlabel('Categories')\n",
    "    plt.ylabel('Amount')\n",
    "    plt.title('Expense Tracker')\n",
    "    plt.show()\n",
    "\n",
    "def main():\n",
    "    while True:\n",
    "        print(\"Expense Tracker Menu:\")\n",
    "        print(\"1. Add Expense\")\n",
    "        print(\"2. Analyze Expenses\")\n",
    "        print(\"3. Quit\")\n",
    "\n",
    "        choice = input(\"Enter your choice (1-3): \")\n",
    "\n",
    "        if choice == '1':\n",
    "            category = input(\"Enter the category: \")\n",
    "            amount = float(input(\"Enter the amount: \"))\n",
    "            add_expense(category, amount)\n",
    "            print(\"Expense added successfully!\")\n",
    "\n",
    "        elif choice == '2':\n",
    "            if not expenses:\n",
    "                print(\"No expenses to analyze.\")\n",
    "            else:\n",
    "                analyze_expenses()\n",
    "\n",
    "        elif choice == '3':\n",
    "            print(\"Thank you for using the Expense Tracker. Goodbye!\")\n",
    "            break\n",
    "\n",
    "        else:\n",
    "            print(\"Invalid choice. Please try again.\")\n",
    "\n",
    "if __name__ == '__main__':\n",
    "    main()\n"
   ]
  },
  {
   "cell_type": "code",
   "execution_count": null,
   "id": "c0183c31",
   "metadata": {},
   "outputs": [],
   "source": []
  }
 ],
 "metadata": {
  "kernelspec": {
   "display_name": "Python 3 (ipykernel)",
   "language": "python",
   "name": "python3"
  },
  "language_info": {
   "codemirror_mode": {
    "name": "ipython",
    "version": 3
   },
   "file_extension": ".py",
   "mimetype": "text/x-python",
   "name": "python",
   "nbconvert_exporter": "python",
   "pygments_lexer": "ipython3",
   "version": "3.9.13"
  }
 },
 "nbformat": 4,
 "nbformat_minor": 5
}
